{
 "cells": [
  {
   "cell_type": "code",
   "execution_count": 1,
   "metadata": {},
   "outputs": [],
   "source": [
    "#Email id of team members ethirajm96@gmail.com, ranishtha@gmail.com and ashishpriyadarshi1@gmail.com\n",
    "#importing packages\n",
    "import pandas as pd\n",
    "import numpy as np\n",
    "import matplotlib as plt\n",
    "from sklearn.preprocessing import LabelEncoder\n",
    "from sklearn.model_selection import train_test_split\n",
    "from sklearn.ensemble import RandomForestClassifier\n",
    "from sklearn.metrics import accuracy_score"
   ]
  },
  {
   "cell_type": "code",
   "execution_count": 2,
   "metadata": {},
   "outputs": [
    {
     "name": "stdout",
     "output_type": "stream",
     "text": [
      "         User ID  User Followers  User Following  User Number of Posts  \\\n",
      "0    kunal_kaser             525             238                   217   \n",
      "1       hanu1503             465            4027                     8   \n",
      "2  vikasyada6019             123             512                     1   \n",
      "\n",
      "   User last 2 post number of likes  User last 2 post number of comments Sex  \\\n",
      "0                                27                                    0   M   \n",
      "1                                76                                    6   M   \n",
      "2                                34                                   11   M   \n",
      "\n",
      "   Approx age Country  Follow Back  Number of followers of my account  \\\n",
      "0          19   India            0                                  0   \n",
      "1          17   India            1                                  0   \n",
      "2          19   India            1                                  0   \n",
      "\n",
      "   Number of following of my account  \n",
      "0                                  0  \n",
      "1                                  1  \n",
      "2                                  2  \n"
     ]
    }
   ],
   "source": [
    "#using pandas to read the csv file and printing the first three rows to analyze the data\n",
    "df = pd.read_csv(\"C:/Users/ETHIRAJ/Desktop/Instagram followback prediction/InstaData.csv\")\n",
    "print(df.head(3))"
   ]
  },
  {
   "cell_type": "code",
   "execution_count": 3,
   "metadata": {},
   "outputs": [
    {
     "name": "stdout",
     "output_type": "stream",
     "text": [
      "       User Followers  User Following  User Number of Posts  \\\n",
      "count    5.130000e+02      513.000000            513.000000   \n",
      "mean     4.725932e+04      694.896686            350.109162   \n",
      "std      1.041913e+06      994.768116            934.458416   \n",
      "min      1.000000e+00        1.000000              1.000000   \n",
      "25%      2.570000e+02      159.000000             29.000000   \n",
      "50%      6.150000e+02      415.000000             98.000000   \n",
      "75%      1.305000e+03      865.000000            305.000000   \n",
      "max      2.360000e+07     7496.000000          16000.000000   \n",
      "\n",
      "       User last 2 post number of likes  User last 2 post number of comments  \\\n",
      "count                      5.130000e+02                           513.000000   \n",
      "mean                       2.417641e+03                            26.855750   \n",
      "std                        4.856298e+04                           266.330436   \n",
      "min                        2.000000e+00                             0.000000   \n",
      "25%                        5.200000e+01                             2.000000   \n",
      "50%                        1.220000e+02                             6.000000   \n",
      "75%                        2.700000e+02                            14.000000   \n",
      "max                        1.100000e+06                          6000.000000   \n",
      "\n",
      "       Approx age  Follow Back  Number of followers of my account  \\\n",
      "count  513.000000   513.000000                         513.000000   \n",
      "mean    24.202729     0.027290                          10.573099   \n",
      "std      6.215045     0.163087                           6.655224   \n",
      "min     14.000000     0.000000                           0.000000   \n",
      "25%     20.000000     0.000000                           7.000000   \n",
      "50%     23.000000     0.000000                           9.000000   \n",
      "75%     27.000000     0.000000                          13.000000   \n",
      "max     56.000000     1.000000                          23.000000   \n",
      "\n",
      "       Number of following of my account  \n",
      "count                         513.000000  \n",
      "mean                          249.536062  \n",
      "std                           144.015730  \n",
      "min                             0.000000  \n",
      "25%                           127.000000  \n",
      "50%                           247.000000  \n",
      "75%                           375.000000  \n",
      "max                           500.000000  \n"
     ]
    }
   ],
   "source": [
    "#trying to see any pattern present in the data\n",
    "print(df.describe())"
   ]
  },
  {
   "cell_type": "code",
   "execution_count": 4,
   "metadata": {},
   "outputs": [
    {
     "data": {
      "text/html": [
       "<div>\n",
       "<style scoped>\n",
       "    .dataframe tbody tr th:only-of-type {\n",
       "        vertical-align: middle;\n",
       "    }\n",
       "\n",
       "    .dataframe tbody tr th {\n",
       "        vertical-align: top;\n",
       "    }\n",
       "\n",
       "    .dataframe thead th {\n",
       "        text-align: right;\n",
       "    }\n",
       "</style>\n",
       "<table border=\"1\" class=\"dataframe\">\n",
       "  <thead>\n",
       "    <tr style=\"text-align: right;\">\n",
       "      <th></th>\n",
       "      <th>User Followers</th>\n",
       "      <th>User Following</th>\n",
       "      <th>User Number of Posts</th>\n",
       "      <th>User last 2 post number of likes</th>\n",
       "      <th>User last 2 post number of comments</th>\n",
       "      <th>Sex</th>\n",
       "      <th>Approx age</th>\n",
       "      <th>Country</th>\n",
       "      <th>Follow Back</th>\n",
       "      <th>Number of followers of my account</th>\n",
       "      <th>Number of following of my account</th>\n",
       "    </tr>\n",
       "  </thead>\n",
       "  <tbody>\n",
       "    <tr>\n",
       "      <th>0</th>\n",
       "      <td>525</td>\n",
       "      <td>238</td>\n",
       "      <td>217</td>\n",
       "      <td>27</td>\n",
       "      <td>0</td>\n",
       "      <td>1</td>\n",
       "      <td>19</td>\n",
       "      <td>5</td>\n",
       "      <td>0</td>\n",
       "      <td>0</td>\n",
       "      <td>0</td>\n",
       "    </tr>\n",
       "    <tr>\n",
       "      <th>1</th>\n",
       "      <td>465</td>\n",
       "      <td>4027</td>\n",
       "      <td>8</td>\n",
       "      <td>76</td>\n",
       "      <td>6</td>\n",
       "      <td>1</td>\n",
       "      <td>17</td>\n",
       "      <td>5</td>\n",
       "      <td>1</td>\n",
       "      <td>0</td>\n",
       "      <td>1</td>\n",
       "    </tr>\n",
       "    <tr>\n",
       "      <th>2</th>\n",
       "      <td>123</td>\n",
       "      <td>512</td>\n",
       "      <td>1</td>\n",
       "      <td>34</td>\n",
       "      <td>11</td>\n",
       "      <td>1</td>\n",
       "      <td>19</td>\n",
       "      <td>5</td>\n",
       "      <td>1</td>\n",
       "      <td>0</td>\n",
       "      <td>2</td>\n",
       "    </tr>\n",
       "    <tr>\n",
       "      <th>3</th>\n",
       "      <td>47</td>\n",
       "      <td>5</td>\n",
       "      <td>1</td>\n",
       "      <td>10</td>\n",
       "      <td>4</td>\n",
       "      <td>0</td>\n",
       "      <td>20</td>\n",
       "      <td>5</td>\n",
       "      <td>0</td>\n",
       "      <td>0</td>\n",
       "      <td>3</td>\n",
       "    </tr>\n",
       "    <tr>\n",
       "      <th>4</th>\n",
       "      <td>1130</td>\n",
       "      <td>66</td>\n",
       "      <td>14</td>\n",
       "      <td>218</td>\n",
       "      <td>13</td>\n",
       "      <td>0</td>\n",
       "      <td>21</td>\n",
       "      <td>5</td>\n",
       "      <td>0</td>\n",
       "      <td>0</td>\n",
       "      <td>4</td>\n",
       "    </tr>\n",
       "  </tbody>\n",
       "</table>\n",
       "</div>"
      ],
      "text/plain": [
       "   User Followers  User Following  User Number of Posts  \\\n",
       "0             525             238                   217   \n",
       "1             465            4027                     8   \n",
       "2             123             512                     1   \n",
       "3              47               5                     1   \n",
       "4            1130              66                    14   \n",
       "\n",
       "   User last 2 post number of likes  User last 2 post number of comments  Sex  \\\n",
       "0                                27                                    0    1   \n",
       "1                                76                                    6    1   \n",
       "2                                34                                   11    1   \n",
       "3                                10                                    4    0   \n",
       "4                               218                                   13    0   \n",
       "\n",
       "   Approx age  Country  Follow Back  Number of followers of my account  \\\n",
       "0          19        5            0                                  0   \n",
       "1          17        5            1                                  0   \n",
       "2          19        5            1                                  0   \n",
       "3          20        5            0                                  0   \n",
       "4          21        5            0                                  0   \n",
       "\n",
       "   Number of following of my account  \n",
       "0                                  0  \n",
       "1                                  1  \n",
       "2                                  2  \n",
       "3                                  3  \n",
       "4                                  4  "
      ]
     },
     "execution_count": 4,
     "metadata": {},
     "output_type": "execute_result"
    }
   ],
   "source": [
    "#dropping user id field as it is not needed and encoding sex and country field as they are not numbers\n",
    "df_new= df.drop(['User ID'],axis=1)\n",
    "number = LabelEncoder();\n",
    "df_new['Sex']= number.fit_transform(df_new['Sex'].astype('str'))\n",
    "df_new['Country']= number.fit_transform(df_new['Country'].astype('str'))\n",
    "\n",
    "df_new.head(5)"
   ]
  },
  {
   "cell_type": "code",
   "execution_count": 5,
   "metadata": {},
   "outputs": [],
   "source": [
    "#splitting the data into training and testing sets\n",
    "train, test = train_test_split(df_new, test_size=0.2)"
   ]
  },
  {
   "cell_type": "code",
   "execution_count": 6,
   "metadata": {},
   "outputs": [],
   "source": [
    "#splitting training and testing sets into train and test labels and features\n",
    "train_labels = np.array(train['Follow Back'])\n",
    "train_features= train.drop('Follow Back', axis = 1)\n",
    "test_labels = np.array(test['Follow Back'])\n",
    "test_features= test.drop('Follow Back', axis = 1)"
   ]
  },
  {
   "cell_type": "code",
   "execution_count": 7,
   "metadata": {},
   "outputs": [],
   "source": [
    "#using random forest classifier for classification and then fitting it\n",
    "rf = RandomForestClassifier(n_estimators = 1000, random_state = 42)\n",
    "rf.fit(train_features, train_labels);"
   ]
  },
  {
   "cell_type": "code",
   "execution_count": 8,
   "metadata": {},
   "outputs": [
    {
     "name": "stdout",
     "output_type": "stream",
     "text": [
      "Mean Absolute Error: 0.03 degrees.\n",
      "97.0873786407767 % accurate\n"
     ]
    }
   ],
   "source": [
    "#perform predictions on the testfeatures and see the percent of accuracy and mean absolute error\n",
    "predictions = rf.predict(test_features)\n",
    "errors = abs(predictions - test_labels)\n",
    "print('Mean Absolute Error:', round(np.mean(errors), 2), 'degrees.')\n",
    "accuracy = accuracy_score(test_labels, predictions.round())\n",
    "print(accuracy*100,\"% accurate\")"
   ]
  },
  {
   "cell_type": "code",
   "execution_count": null,
   "metadata": {},
   "outputs": [],
   "source": []
  }
 ],
 "metadata": {
  "kernelspec": {
   "display_name": "Python 3",
   "language": "python",
   "name": "python3"
  },
  "language_info": {
   "codemirror_mode": {
    "name": "ipython",
    "version": 3
   },
   "file_extension": ".py",
   "mimetype": "text/x-python",
   "name": "python",
   "nbconvert_exporter": "python",
   "pygments_lexer": "ipython3",
   "version": "3.7.1"
  }
 },
 "nbformat": 4,
 "nbformat_minor": 2
}
